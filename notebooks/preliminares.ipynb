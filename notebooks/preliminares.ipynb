{
 "cells": [
  {
   "cell_type": "code",
   "execution_count": 52,
   "id": "typical-florida",
   "metadata": {},
   "outputs": [],
   "source": [
    "import random\n",
    "import numpy as np\n",
    "import networkx as nx\n",
    "from itertools import combinations, groupby"
   ]
  },
  {
   "cell_type": "markdown",
   "id": "functional-blake",
   "metadata": {},
   "source": [
    "Generando grafos aleatorios"
   ]
  },
  {
   "cell_type": "code",
   "execution_count": 32,
   "id": "controlled-hunger",
   "metadata": {},
   "outputs": [],
   "source": [
    "def gnp_random_connected_graph(n, p):\n",
    "    \"\"\"\n",
    "    Generates a random undirected graph, similarly to an Erdős-Rényi \n",
    "    graph, but enforcing that the resulting graph is conneted\n",
    "    Source: https://stackoverflow.com/questions/61958360/how-to-create-random-graph-where-each-node-has-at-least-1-edge-using-networkx\n",
    "    \"\"\"\n",
    "    edges = combinations(range(n), 2)\n",
    "    G = nx.Graph()\n",
    "    G.add_nodes_from(range(n))\n",
    "    if p <= 0:\n",
    "        return G\n",
    "    if p >= 1:\n",
    "        return nx.complete_graph(n, create_using=G)\n",
    "    for _, node_edges in groupby(edges, key=lambda x: x[0]):\n",
    "        node_edges = list(node_edges)\n",
    "        random_edge = random.choice(node_edges)\n",
    "        G.add_edge(*random_edge)\n",
    "        for e in node_edges:\n",
    "            if random.random() < p:\n",
    "                G.add_edge(*e)\n",
    "    return G"
   ]
  },
  {
   "cell_type": "code",
   "execution_count": 41,
   "id": "finite-secretary",
   "metadata": {},
   "outputs": [
    {
     "data": {
      "image/png": "[encoded data removed]",
      "text/plain": [
       "<Figure size 432x288 with 1 Axes>"
      ]
     },
     "metadata": {},
     "output_type": "display_data"
    }
   ],
   "source": [
    "# ejemplo\n",
    "nodes = random.randint(5,10)\n",
    "seed = 3\n",
    "probability = 0.1\n",
    "G = gnp_random_connected_graph(nodes,probability)\n",
    "\n",
    "nx.draw(G, node_color='lightblue', \n",
    "        with_labels=True, \n",
    "        node_size=500)"
   ]
  },
  {
   "cell_type": "markdown",
   "id": "unauthorized-border",
   "metadata": {},
   "source": [
    "Listar nodos:"
   ]
  },
  {
   "cell_type": "code",
   "execution_count": 93,
   "id": "modular-airfare",
   "metadata": {},
   "outputs": [
    {
     "data": {
      "text/plain": [
       "[0, 1, 2, 3, 4]"
      ]
     },
     "execution_count": 93,
     "metadata": {},
     "output_type": "execute_result"
    }
   ],
   "source": [
    "nodos = list(G.nodes)\n",
    "nodos"
   ]
  },
  {
   "cell_type": "markdown",
   "id": "advisory-groove",
   "metadata": {},
   "source": [
    "- Encontrar vecinos de un nodo:"
   ]
  },
  {
   "cell_type": "code",
   "execution_count": 91,
   "id": "associate-lodge",
   "metadata": {},
   "outputs": [
    {
     "data": {
      "text/plain": [
       "[1, 4]"
      ]
     },
     "execution_count": 91,
     "metadata": {},
     "output_type": "execute_result"
    }
   ],
   "source": [
    "neighbors = list(G.neighbors(2))\n",
    "neighbors"
   ]
  },
  {
   "cell_type": "code",
   "execution_count": 47,
   "id": "micro-plenty",
   "metadata": {},
   "outputs": [
    {
     "name": "stdout",
     "output_type": "stream",
     "text": [
      "* Nodo: 0\n",
      "\tNodos vecinos: [4]\n",
      "* Nodo: 1\n",
      "\tNodos vecinos: [2, 4]\n",
      "* Nodo: 2\n",
      "\tNodos vecinos: [1, 4]\n",
      "* Nodo: 3\n",
      "\tNodos vecinos: [4]\n",
      "* Nodo: 4\n",
      "\tNodos vecinos: [0, 1, 2, 3]\n"
     ]
    }
   ],
   "source": [
    "for n in nodes:\n",
    "    print(f'* Nodo: {n}')\n",
    "    print(f'\\tNodos vecinos: {list(G.neighbors(n))}')"
   ]
  },
  {
   "cell_type": "code",
   "execution_count": 99,
   "id": "religious-affiliate",
   "metadata": {},
   "outputs": [
    {
     "data": {
      "text/plain": [
       "{0: {4: 1},\n",
       " 1: {2: 1, 4: 1},\n",
       " 2: {1: 1, 4: 1},\n",
       " 3: {4: 1},\n",
       " 4: {0: 1, 1: 1, 2: 1, 3: 1}}"
      ]
     },
     "execution_count": 99,
     "metadata": {},
     "output_type": "execute_result"
    }
   ],
   "source": [
    "nivel_feromona = {}\n",
    "\n",
    "for nodo in nodos:\n",
    "    nivel_feromona[nodo] = {}\n",
    "    neighbors = list(G.neighbors(nodo))\n",
    "    for neighbor in neighbors:\n",
    "        nivel_feromona[nodo][neighbor] = 1\n",
    "        \n",
    "nivel_feromona"
   ]
  },
  {
   "cell_type": "code",
   "execution_count": 96,
   "id": "attempted-stevens",
   "metadata": {},
   "outputs": [
    {
     "data": {
      "text/plain": [
       "{0: {4: 0.5},\n",
       " 1: {2: 0.5, 4: 0.5},\n",
       " 2: {1: 0.5, 4: 0.5},\n",
       " 3: {4: 0.5},\n",
       " 4: {0: 0.5, 1: 0.5, 2: 0.5, 3: 0.5}}"
      ]
     },
     "execution_count": 96,
     "metadata": {},
     "output_type": "execute_result"
    }
   ],
   "source": [
    "nivel_atraccion = {}\n",
    "\n",
    "for nodo in nodos:\n",
    "    nivel_atraccion[nodo] = {}\n",
    "    neighbors = list(G.neighbors(nodo))\n",
    "    for neighbor in neighbors:\n",
    "        nivel_atraccion[nodo][neighbor] = 0.5\n",
    "        \n",
    "nivel_atraccion"
   ]
  },
  {
   "cell_type": "markdown",
   "id": "concrete-accordance",
   "metadata": {},
   "source": [
    "- Grado de atracción de cada nodo, $v$:\n",
    "\n",
    "$$\n",
    "v = \\tau_{i,j}^{\\alpha} \\eta_{i,j}^{\\beta}\n",
    "$$"
   ]
  },
  {
   "cell_type": "code",
   "execution_count": 116,
   "id": "caroline-bicycle",
   "metadata": {},
   "outputs": [],
   "source": [
    "def atraccion_nodos(G, tau, eta, alpha=1, beta=5):    \n",
    "    \"\"\"Calcula el grado de atracción de un nodo n perteneciente al grafo G.\n",
    "\n",
    "    Args:\n",
    "        G (networkx graph): Grafo de networkx.\n",
    "        tau: \n",
    "        eta:\n",
    "        alpha (float): Factor de influencia (exponente del nivel de feronomas)\n",
    "        beta: exponente anterior\n",
    "\n",
    "    Returns:\n",
    "        atrac: Lista con los valores de atracción de los vecinos del nodo j.\n",
    "    \"\"\"\n",
    "    dic_attr = {}\n",
    "    # componentes del grafo\n",
    "    nodos = list(G.nodes)\n",
    "    \n",
    "    \n",
    "    for nodo in nodos:\n",
    "        dic_attr[nodo] = {}\n",
    "        neighbors = list(G.neighbors(nodo))\n",
    "        for neighbor in neighbors:\n",
    "            print(f'Nodo: {nodo} / neighbor {neighbor}')\n",
    "            attr = tau[nodo][neighbor]**alpha + eta[nodo][neighbor]**beta\n",
    "            dic_attr[nodo][neighbor] = attr\n",
    "        \n",
    "    return dic_attr"
   ]
  },
  {
   "cell_type": "code",
   "execution_count": 117,
   "id": "demanding-metro",
   "metadata": {},
   "outputs": [
    {
     "name": "stdout",
     "output_type": "stream",
     "text": [
      "Nodo: 0 / neighbor 4\n",
      "Nodo: 1 / neighbor 2\n",
      "Nodo: 1 / neighbor 4\n",
      "Nodo: 2 / neighbor 1\n",
      "Nodo: 2 / neighbor 4\n",
      "Nodo: 3 / neighbor 4\n",
      "Nodo: 4 / neighbor 0\n",
      "Nodo: 4 / neighbor 1\n",
      "Nodo: 4 / neighbor 2\n",
      "Nodo: 4 / neighbor 3\n"
     ]
    },
    {
     "data": {
      "text/plain": [
       "{0: {4: 1.03125},\n",
       " 1: {2: 1.03125, 4: 1.03125},\n",
       " 2: {1: 1.03125, 4: 1.03125},\n",
       " 3: {4: 1.03125},\n",
       " 4: {0: 1.03125, 1: 1.03125, 2: 1.03125, 3: 1.03125}}"
      ]
     },
     "execution_count": 117,
     "metadata": {},
     "output_type": "execute_result"
    }
   ],
   "source": [
    "atraccion_nodos(G, tau=nivel_feromona, eta=nivel_atraccion, alpha=1, beta=5)"
   ]
  },
  {
   "cell_type": "code",
   "execution_count": null,
   "id": "white-think",
   "metadata": {},
   "outputs": [],
   "source": []
  }
 ],
 "metadata": {
  "kernelspec": {
   "display_name": "optim_tsp",
   "language": "python",
   "name": "optim_tsp"
  },
  "language_info": {
   "codemirror_mode": {
    "name": "ipython",
    "version": 3
   },
   "file_extension": ".py",
   "mimetype": "text/x-python",
   "name": "python",
   "nbconvert_exporter": "python",
   "pygments_lexer": "ipython3",
   "version": "3.7.10"
  }
 },
 "nbformat": 4,
 "nbformat_minor": 5
}
