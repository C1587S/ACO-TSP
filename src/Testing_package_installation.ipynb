{
 "cells": [
  {
   "cell_type": "code",
   "execution_count": 1,
   "metadata": {},
   "outputs": [],
   "source": [
    "# Testeando creacion de paquete "
   ]
  },
  {
   "cell_type": "markdown",
   "metadata": {},
   "source": [
    "### Desde la linea de comandios: \n",
    " - Abrir un virtualenv (o el boton de binder). \n",
    " - Clonar repositorio\n",
    " - Dentro de la carpeta src, se escribe, \"pip install .\""
   ]
  },
  {
   "cell_type": "markdown",
   "metadata": {},
   "source": [
    "### Dentro de este jupyter notebook, probamos instalar el paquete: "
   ]
  },
  {
   "cell_type": "code",
   "execution_count": 12,
   "metadata": {},
   "outputs": [
    {
     "name": "stdout",
     "output_type": "stream",
     "text": [
      "Processing /Users/sansansansan/Desktop/practica-1-segunda-parte-ltejadal/src\n",
      "Requirement already satisfied: numpy in /Users/sansansansan/.pyenv/versions/3.7.4/envs/itam_intro_to_ds/lib/python3.7/site-packages (from ant-colony==0.1) (1.19.2)\n",
      "Requirement already satisfied: pandas in /Users/sansansansan/.pyenv/versions/3.7.4/envs/itam_intro_to_ds/lib/python3.7/site-packages (from ant-colony==0.1) (1.1.5)\n",
      "Requirement already satisfied: nose in /Users/sansansansan/.pyenv/versions/3.7.4/envs/itam_intro_to_ds/lib/python3.7/site-packages (from ant-colony==0.1) (1.3.7)\n",
      "Requirement already satisfied: pytz>=2017.2 in /Users/sansansansan/.pyenv/versions/3.7.4/envs/itam_intro_to_ds/lib/python3.7/site-packages (from pandas->ant-colony==0.1) (2020.4)\n",
      "Requirement already satisfied: python-dateutil>=2.7.3 in /Users/sansansansan/.pyenv/versions/3.7.4/envs/itam_intro_to_ds/lib/python3.7/site-packages (from pandas->ant-colony==0.1) (2.8.1)\n",
      "Requirement already satisfied: six>=1.5 in /Users/sansansansan/.pyenv/versions/3.7.4/envs/itam_intro_to_ds/lib/python3.7/site-packages (from python-dateutil>=2.7.3->pandas->ant-colony==0.1) (1.15.0)\n",
      "Installing collected packages: ant-colony\n",
      "  Found existing installation: ant-colony 0.1\n",
      "    Uninstalling ant-colony-0.1:\n",
      "      Successfully uninstalled ant-colony-0.1\n",
      "  Running setup.py install for ant-colony ... \u001b[?25ldone\n",
      "\u001b[?25hSuccessfully installed ant-colony-0.1\n",
      "\u001b[33mYou are using pip version 19.0.3, however version 21.0.1 is available.\n",
      "You should consider upgrading via the 'pip install --upgrade pip' command.\u001b[0m\n"
     ]
    }
   ],
   "source": [
    "# Este comando instala el paquete (siempre que este notebook este dentro de la carpeta src):\n",
    "!pip install . "
   ]
  },
  {
   "cell_type": "markdown",
   "metadata": {},
   "source": [
    "### Importamos el modulo sum, que contiene la funcion sum, y que fue creado para testear esta instalacion (dado que aun no tenemos el codigo): "
   ]
  },
  {
   "cell_type": "code",
   "execution_count": 15,
   "metadata": {},
   "outputs": [],
   "source": [
    "from ant_colony import sum"
   ]
  },
  {
   "cell_type": "markdown",
   "metadata": {},
   "source": [
    "### llamamos a la función: "
   ]
  },
  {
   "cell_type": "code",
   "execution_count": 17,
   "metadata": {},
   "outputs": [
    {
     "data": {
      "text/plain": [
       "7"
      ]
     },
     "execution_count": 17,
     "metadata": {},
     "output_type": "execute_result"
    }
   ],
   "source": [
    "#sumamos 3 + 4 :\n",
    "sum.sum(3,4)"
   ]
  },
  {
   "cell_type": "markdown",
   "metadata": {},
   "source": [
    "Vemos que el paquete se ha instalado correctamente y que se pueden llamar a sus funciones"
   ]
  },
  {
   "cell_type": "code",
   "execution_count": null,
   "metadata": {},
   "outputs": [],
   "source": []
  }
 ],
 "metadata": {
  "kernelspec": {
   "display_name": "Python 3",
   "language": "python",
   "name": "python3"
  },
  "language_info": {
   "codemirror_mode": {
    "name": "ipython",
    "version": 3
   },
   "file_extension": ".py",
   "mimetype": "text/x-python",
   "name": "python",
   "nbconvert_exporter": "python",
   "pygments_lexer": "ipython3",
   "version": "3.7.4"
  }
 },
 "nbformat": 4,
 "nbformat_minor": 4
}
